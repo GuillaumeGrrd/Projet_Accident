{
 "cells": [
  {
   "cell_type": "code",
   "execution_count": 2,
   "id": "e234b9c4",
   "metadata": {},
   "outputs": [],
   "source": [
    "import numpy as np\n",
    "import pandas as pd\n",
    "import matplotlib.pyplot as plt\n",
    "import seaborn as sns\n",
    "import os\n",
    "\n",
    "from sklearn import ensemble\n",
    "from sklearn.preprocessing import OneHotEncoder\n",
    "from sklearn.preprocessing import StandardScaler\n",
    "from sklearn import svm\n",
    "from sklearn.model_selection import train_test_split\n",
    "from sklearn.feature_selection import SelectKBest, chi2\n",
    "from imblearn.over_sampling import RandomOverSampler\n",
    "from imblearn.under_sampling import RandomUnderSampler,  ClusterCentroids\n",
    "from sklearn import linear_model\n",
    "from imblearn.metrics import classification_report_imbalanced, geometric_mean_score\n",
    "from imblearn.ensemble import BalancedRandomForestClassifier\n",
    "from sklearn.tree import DecisionTreeClassifier\n",
    "from sklearn.preprocessing import OrdinalEncoder\n",
    "from sklearn.feature_selection import mutual_info_classif\n",
    "from sklearn.model_selection import GridSearchCV\n",
    "from sklearn import svm\n",
    "from sklearn import model_selection\n",
    "from sklearn.linear_model import LogisticRegression\n",
    "from sklearn.metrics import accuracy_score\n",
    "import xgboost as xgb  \n",
    "import matplotlib.pyplot as plt"
   ]
  },
  {
   "cell_type": "code",
   "execution_count": 10,
   "id": "69253dcf",
   "metadata": {},
   "outputs": [],
   "source": [
    "# import vehicules \n",
    "dfVehi2020 = pd.read_csv('data/DataSource/vehicules-2020.csv', sep = ';')\n",
    "dfVehi2019 = pd.read_csv('data/DataSource/vehicules-2019.csv', sep = ';')\n",
    "\n",
    "\n",
    "# import usager \n",
    "dfUsag2020 = pd.read_csv('data/DataSource/usagers-2020.csv', sep = ';')\n",
    "dfUsag2019 = pd.read_csv('data/DataSource/usagers-2019.csv', sep = ';')\n",
    "\n",
    "\n",
    "# import lieu \n",
    "dfLieux2020 = pd.read_csv('data/DataSource/lieux-2020.csv', sep = ';')\n",
    "dfLieux2019 = pd.read_csv('data/DataSource/lieux-2019.csv', sep = ';')\n",
    "\n",
    "\n",
    "# import Caractéristique \n",
    "dfCara2020 = pd.read_csv('data/DataSource/caracteristiques-2020.csv', sep = ';')\n",
    "dfCara2019 = pd.read_csv('data/DataSource/caracteristiques-2019.csv', sep = ';')\n",
    "\n",
    "# import Caractéristique \n",
    "dfImmat2020 = pd.read_csv('data/DataSource/2020.csv', sep = ';')\n",
    "dfImmat2019 = pd.read_csv('data/DataSource/2019.csv', sep = ';')"
   ]
  },
  {
   "cell_type": "code",
   "execution_count": 11,
   "id": "d7ba5047",
   "metadata": {},
   "outputs": [],
   "source": [
    "dfVehi = pd.concat([dfVehi2020, dfVehi2019], axis = 0)\n",
    "dfUsag = pd.concat([dfUsag2020, dfUsag2019], axis = 0)\n",
    "dfLieux = pd.concat([dfLieux2020, dfLieux2019], axis = 0)\n",
    "dfCara = pd.concat([dfCara2020, dfCara2019], axis = 0)\n",
    "dfImmat = pd.concat([dfImmat2020, dfImmat2019], axis = 0)\n",
    "\n",
    "df1 = pd.merge(dfUsag, dfVehi, left_on=['Num_Acc', 'id_vehicule', 'num_veh' ], right_on=['Num_Acc', 'id_vehicule', 'num_veh' ])\n",
    "df2 = pd.merge(df1, dfLieux, left_on=['Num_Acc' ], right_on=['Num_Acc'])\n",
    "\n",
    "all_content = pd.merge(df2, dfCara, left_on=['Num_Acc'], right_on=['Num_Acc'])"
   ]
  },
  {
   "cell_type": "code",
   "execution_count": 12,
   "id": "fc752dc5",
   "metadata": {},
   "outputs": [],
   "source": [
    "all_content_dr = all_content.drop([\"voie\",\"v1\",\"v2\",\"pr\",\"pr1\",\n",
    "                                   \"lartpc\",\"larrout\",\"com\",\"adr\",\"lat\",\"long\",\n",
    "                                   \"senc\", \"occutc\",\"vma\"], axis = 1)\n",
    "\n",
    "all_content_dr['Num_Acc'] = all_content_dr['Num_Acc'].astype(str)\n",
    "all_content_dr['id_vehicule'] = all_content_dr['id_vehicule'].astype(str)\n",
    "all_content_dr['num_veh']  = all_content_dr['num_veh'].astype(str)\n",
    "\n",
    "all_content_dr.index = all_content_dr['Num_Acc'] + ' - '+ all_content_dr['id_vehicule'] +' - ' + all_content_dr['num_veh']\n",
    "all_content_dr = all_content_dr.drop([\"Num_Acc\",\"id_vehicule\",\t\"num_veh\"], axis = 1)"
   ]
  },
  {
   "cell_type": "code",
   "execution_count": 13,
   "id": "7e04f314",
   "metadata": {},
   "outputs": [],
   "source": [
    "all_content_dr['dep'] = all_content_dr['dep'].replace(['2B','2A'],[111,110])\n",
    "all_content_dr['actp'] = all_content_dr['actp'].replace(['A','B'],[10,0])\n",
    "all_content_dr['dep'] = all_content_dr['dep'].astype(int)\n",
    "all_content_dr['actp'] = all_content_dr['actp'].astype(int)"
   ]
  },
  {
   "cell_type": "code",
   "execution_count": 14,
   "id": "da5cbedb",
   "metadata": {},
   "outputs": [],
   "source": [
    "all_content_dr = all_content_dr.drop([\"hrmn\"], axis = 1)"
   ]
  },
  {
   "cell_type": "code",
   "execution_count": 15,
   "id": "c8b051f4",
   "metadata": {},
   "outputs": [],
   "source": [
    "all_content_dr['AgeUsag'] = all_content_dr['an'] - all_content_dr['an_nais']\n",
    "all_content_dr = all_content_dr.drop([\"an_nais\",\"an\"], axis = 1)"
   ]
  },
  {
   "cell_type": "code",
   "execution_count": 16,
   "id": "cb22958b",
   "metadata": {},
   "outputs": [],
   "source": [
    "all_content_dr['AgeUsag'] = pd.cut(all_content_dr['AgeUsag'], bins = [0,18,25,35,45,55,65, 110], labels =[0,1,2,3,4,5,6])"
   ]
  },
  {
   "cell_type": "code",
   "execution_count": 17,
   "id": "4ceba2c1",
   "metadata": {},
   "outputs": [
    {
     "data": {
      "text/plain": [
       "2    49183\n",
       "1    44806\n",
       "3    37279\n",
       "4    33663\n",
       "0    25544\n",
       "6    23876\n",
       "5    23377\n",
       "Name: AgeUsag, dtype: int64"
      ]
     },
     "execution_count": 17,
     "metadata": {},
     "output_type": "execute_result"
    }
   ],
   "source": [
    "all_content_dr['AgeUsag'].value_counts()"
   ]
  },
  {
   "cell_type": "code",
   "execution_count": 18,
   "id": "62393991",
   "metadata": {},
   "outputs": [],
   "source": [
    "all_content_dr['circ'] = all_content_dr['circ'].replace(-1, 2)\n",
    "all_content_dr['prof'] = all_content_dr['prof'].replace(-1, 1)\n",
    "all_content_dr['plan'] = all_content_dr['plan'].replace(-1, 1)\n",
    "all_content_dr['surf'] = all_content_dr['surf'].replace(-1, 1)\n",
    "all_content_dr = all_content_dr.replace(-1, 0)"
   ]
  },
  {
   "cell_type": "code",
   "execution_count": 19,
   "id": "c93e046c",
   "metadata": {},
   "outputs": [],
   "source": [
    "all_content_dr['grav'] = all_content_dr['grav'].replace([2, 3], 0)\n",
    "all_content_dr['grav'] = all_content_dr['grav'].replace([1, 4], 1)"
   ]
  },
  {
   "cell_type": "code",
   "execution_count": 20,
   "id": "a96767e1",
   "metadata": {},
   "outputs": [
    {
     "name": "stdout",
     "output_type": "stream",
     "text": [
      "<class 'pandas.core.frame.DataFrame'>\n",
      "Index: 237728 entries, 202000000001 - 154 742 274 - B01 to 201900058840 - 137 982 130 - A01\n",
      "Data columns (total 35 columns):\n",
      " #   Column   Non-Null Count   Dtype\n",
      "---  ------   --------------   -----\n",
      " 0   place    237728 non-null  int64\n",
      " 1   catu     237728 non-null  int64\n",
      " 2   grav     237728 non-null  int64\n",
      " 3   sexe     237728 non-null  int64\n",
      " 4   trajet   237728 non-null  int64\n",
      " 5   secu1    237728 non-null  int64\n",
      " 6   secu2    237728 non-null  int64\n",
      " 7   secu3    237728 non-null  int64\n",
      " 8   locp     237728 non-null  int64\n",
      " 9   actp     237728 non-null  int32\n",
      " 10  etatp    237728 non-null  int64\n",
      " 11  catv     237728 non-null  int64\n",
      " 12  obs      237728 non-null  int64\n",
      " 13  obsm     237728 non-null  int64\n",
      " 14  choc     237728 non-null  int64\n",
      " 15  manv     237728 non-null  int64\n",
      " 16  motor    237728 non-null  int64\n",
      " 17  catr     237728 non-null  int64\n",
      " 18  circ     237728 non-null  int64\n",
      " 19  nbv      237728 non-null  int64\n",
      " 20  vosp     237728 non-null  int64\n",
      " 21  prof     237728 non-null  int64\n",
      " 22  plan     237728 non-null  int64\n",
      " 23  surf     237728 non-null  int64\n",
      " 24  infra    237728 non-null  int64\n",
      " 25  situ     237728 non-null  int64\n",
      " 26  jour     237728 non-null  int64\n",
      " 27  mois     237728 non-null  int64\n",
      " 28  lum      237728 non-null  int64\n",
      " 29  dep      237728 non-null  int32\n",
      " 30  agg      237728 non-null  int64\n",
      " 31  int      237728 non-null  int64\n",
      " 32  atm      237728 non-null  int64\n",
      " 33  col      237728 non-null  int64\n",
      " 34  AgeUsag  237728 non-null  int32\n",
      "dtypes: int32(3), int64(32)\n",
      "memory usage: 62.6+ MB\n"
     ]
    }
   ],
   "source": [
    "all_content_dr = all_content_dr.dropna()\n",
    "all_content_dr['AgeUsag']= all_content_dr['AgeUsag'].astype(int)\n",
    "all_content_dr.info()"
   ]
  },
  {
   "cell_type": "code",
   "execution_count": 21,
   "id": "63faa7f4",
   "metadata": {},
   "outputs": [],
   "source": [
    "target = all_content_dr['grav']\n",
    "data = all_content_dr.drop('grav', axis = 1)"
   ]
  },
  {
   "cell_type": "code",
   "execution_count": 22,
   "id": "21cfdcd7",
   "metadata": {},
   "outputs": [
    {
     "data": {
      "text/plain": [
       "0.7100281832330796"
      ]
     },
     "execution_count": 22,
     "metadata": {},
     "output_type": "execute_result"
    }
   ],
   "source": [
    "from imblearn.over_sampling import RandomOverSampler, SMOTE\n",
    "from imblearn.under_sampling import RandomUnderSampler,  ClusterCentroids\n",
    "from sklearn.model_selection import train_test_split\n",
    "\n",
    "X_train, X_test, y_train, y_test = train_test_split(data, target, test_size=0.2)\n",
    "\n",
    "\n",
    "#Oversampling aléatoire\n",
    "ros = RandomOverSampler()\n",
    "#SMOTE\n",
    "smo = SMOTE()\n",
    "\n",
    "#Random Undersampling\n",
    "rus = RandomUnderSampler()\n",
    "#Centroids\n",
    "cc = ClusterCentroids()\n",
    "\n",
    "\n",
    "from sklearn.tree import DecisionTreeClassifier\n",
    "from sklearn.metrics import accuracy_score\n",
    "import matplotlib.pyplot as plt\n",
    "from sklearn.model_selection import GridSearchCV\n",
    "\n",
    "\n",
    "X_train, y_train = rus.fit_resample(X_train, y_train)\n",
    "    \n",
    "model = DecisionTreeClassifier()\n",
    "model.fit(X_train, y_train)\n",
    "    \n",
    "y_pred = model.predict(X_test)\n",
    "accuracy_score(y_test, y_pred)\n",
    "\n"
   ]
  },
  {
   "cell_type": "code",
   "execution_count": 23,
   "id": "82789c34",
   "metadata": {},
   "outputs": [
    {
     "name": "stdout",
     "output_type": "stream",
     "text": [
      "Feature 0: 3944.679947\n",
      "Feature 1: 272.852762\n",
      "Feature 2: 33.549061\n",
      "Feature 3: 574.720344\n",
      "Feature 4: 395.266977\n",
      "Feature 5: 147.521173\n",
      "Feature 6: 6107.394868\n",
      "Feature 7: 3108.832241\n",
      "Feature 8: 3598.558501\n",
      "Feature 9: 1212.598637\n",
      "Feature 10: 9977.767795\n",
      "Feature 11: 22537.599278\n",
      "Feature 12: 2348.689470\n",
      "Feature 13: 888.405185\n",
      "Feature 14: 1984.668028\n",
      "Feature 15: 188.455056\n",
      "Feature 16: 15.468671\n",
      "Feature 17: 12.102086\n",
      "Feature 18: 791.497243\n",
      "Feature 19: 442.615161\n",
      "Feature 20: 106.538487\n",
      "Feature 21: 481.998726\n",
      "Feature 22: 30.014373\n",
      "Feature 23: 7.318505\n",
      "Feature 24: 1887.371893\n",
      "Feature 25: 24.970975\n",
      "Feature 26: 0.013601\n",
      "Feature 27: 0.556906\n",
      "Feature 28: 3967.489070\n",
      "Feature 29: 466.505748\n",
      "Feature 30: 531.332294\n",
      "Feature 31: 65.394561\n",
      "Feature 32: 1368.266225\n",
      "Feature 33: 426.285919\n"
     ]
    },
    {
     "data": {
      "image/png": "[encoded data removed]",
      "text/plain": [
       "<Figure size 640x480 with 1 Axes>"
      ]
     },
     "metadata": {},
     "output_type": "display_data"
    }
   ],
   "source": [
    "rus = RandomUnderSampler()\n",
    "X_train, y_train = rus.fit_resample(X_train, y_train)\n",
    "\n",
    "# feature selection\n",
    "def select_features(X_train, y_train, X_test):\n",
    "    fs = SelectKBest(score_func=chi2, k=5)\n",
    "    fs.fit(X_train, y_train)\n",
    "    X_train_fs = fs.transform(X_train)\n",
    "    X_test_fs = fs.transform(X_test)\n",
    "    return X_train_fs, X_test_fs, fs\n",
    "\n",
    "# feature selection\n",
    "X_train_fs, X_test_fs, fs = select_features(X_train, y_train, X_test)\n",
    "# what are scores for the features\n",
    "for i in range(len(fs.scores_)):\n",
    "    print('Feature %d: %f' % (i, fs.scores_[i]))\n",
    "# plot the scores\n",
    "plt.bar([i for i in range(len(fs.scores_))], fs.scores_)\n",
    "plt.show()\n"
   ]
  },
  {
   "cell_type": "code",
   "execution_count": 24,
   "id": "465f1f81",
   "metadata": {},
   "outputs": [
    {
     "name": "stdout",
     "output_type": "stream",
     "text": [
      "Accuracy: 74.53\n"
     ]
    },
    {
     "data": {
      "text/html": [
       "<div>\n",
       "<style scoped>\n",
       "    .dataframe tbody tr th:only-of-type {\n",
       "        vertical-align: middle;\n",
       "    }\n",
       "\n",
       "    .dataframe tbody tr th {\n",
       "        vertical-align: top;\n",
       "    }\n",
       "\n",
       "    .dataframe thead th {\n",
       "        text-align: right;\n",
       "    }\n",
       "</style>\n",
       "<table border=\"1\" class=\"dataframe\">\n",
       "  <thead>\n",
       "    <tr style=\"text-align: right;\">\n",
       "      <th>col_0</th>\n",
       "      <th>0</th>\n",
       "      <th>1</th>\n",
       "    </tr>\n",
       "    <tr>\n",
       "      <th>grav</th>\n",
       "      <th></th>\n",
       "      <th></th>\n",
       "    </tr>\n",
       "  </thead>\n",
       "  <tbody>\n",
       "    <tr>\n",
       "      <th>0</th>\n",
       "      <td>6301</td>\n",
       "      <td>2409</td>\n",
       "    </tr>\n",
       "    <tr>\n",
       "      <th>1</th>\n",
       "      <td>9701</td>\n",
       "      <td>29135</td>\n",
       "    </tr>\n",
       "  </tbody>\n",
       "</table>\n",
       "</div>"
      ],
      "text/plain": [
       "col_0     0      1\n",
       "grav              \n",
       "0      6301   2409\n",
       "1      9701  29135"
      ]
     },
     "execution_count": 24,
     "metadata": {},
     "output_type": "execute_result"
    }
   ],
   "source": [
    "model = ensemble.RandomForestClassifier()\n",
    "\n",
    "model.fit(X_train_fs, y_train)\n",
    "\n",
    "y_pred = model.predict(X_test_fs)\n",
    "\n",
    "cross = pd.crosstab(y_test, y_pred)\n",
    "\n",
    "accuracy = accuracy_score(y_test, y_pred)\n",
    "print('Accuracy: %.2f' % (accuracy*100))\n",
    "cross"
   ]
  },
  {
   "cell_type": "code",
   "execution_count": 25,
   "id": "206d8ee1",
   "metadata": {},
   "outputs": [
    {
     "name": "stdout",
     "output_type": "stream",
     "text": [
      "Accuracy: 77.48\n"
     ]
    },
    {
     "data": {
      "text/html": [
       "<div>\n",
       "<style scoped>\n",
       "    .dataframe tbody tr th:only-of-type {\n",
       "        vertical-align: middle;\n",
       "    }\n",
       "\n",
       "    .dataframe tbody tr th {\n",
       "        vertical-align: top;\n",
       "    }\n",
       "\n",
       "    .dataframe thead th {\n",
       "        text-align: right;\n",
       "    }\n",
       "</style>\n",
       "<table border=\"1\" class=\"dataframe\">\n",
       "  <thead>\n",
       "    <tr style=\"text-align: right;\">\n",
       "      <th>col_0</th>\n",
       "      <th>0</th>\n",
       "      <th>1</th>\n",
       "    </tr>\n",
       "    <tr>\n",
       "      <th>grav</th>\n",
       "      <th></th>\n",
       "      <th></th>\n",
       "    </tr>\n",
       "  </thead>\n",
       "  <tbody>\n",
       "    <tr>\n",
       "      <th>0</th>\n",
       "      <td>7331</td>\n",
       "      <td>1349</td>\n",
       "    </tr>\n",
       "    <tr>\n",
       "      <th>1</th>\n",
       "      <td>9359</td>\n",
       "      <td>29507</td>\n",
       "    </tr>\n",
       "  </tbody>\n",
       "</table>\n",
       "</div>"
      ],
      "text/plain": [
       "col_0     0      1\n",
       "grav              \n",
       "0      7331   1349\n",
       "1      9359  29507"
      ]
     },
     "execution_count": 25,
     "metadata": {},
     "output_type": "execute_result"
    }
   ],
   "source": [
    "X_train, X_test, y_train, y_test = train_test_split(data, target, test_size=0.2)\n",
    "\n",
    "bclf = BalancedRandomForestClassifier()\n",
    "bclf.fit(X_train, y_train) \n",
    "\n",
    "y_pred = bclf.predict(X_test)\n",
    "pd.crosstab(y_test, y_pred)\n",
    "\n",
    "cross = pd.crosstab(y_test, y_pred)\n",
    "\n",
    "accuracy = accuracy_score(y_test, y_pred)\n",
    "print('Accuracy: %.2f' % (accuracy*100))\n",
    "\n",
    "cross"
   ]
  },
  {
   "cell_type": "code",
   "execution_count": 27,
   "id": "e09a8c75",
   "metadata": {},
   "outputs": [
    {
     "name": "stdout",
     "output_type": "stream",
     "text": [
      "Accuracy: 85.22\n"
     ]
    },
    {
     "data": {
      "text/html": [
       "<div>\n",
       "<style scoped>\n",
       "    .dataframe tbody tr th:only-of-type {\n",
       "        vertical-align: middle;\n",
       "    }\n",
       "\n",
       "    .dataframe tbody tr th {\n",
       "        vertical-align: top;\n",
       "    }\n",
       "\n",
       "    .dataframe thead th {\n",
       "        text-align: right;\n",
       "    }\n",
       "</style>\n",
       "<table border=\"1\" class=\"dataframe\">\n",
       "  <thead>\n",
       "    <tr style=\"text-align: right;\">\n",
       "      <th>col_0</th>\n",
       "      <th>0</th>\n",
       "      <th>1</th>\n",
       "    </tr>\n",
       "    <tr>\n",
       "      <th>grav</th>\n",
       "      <th></th>\n",
       "      <th></th>\n",
       "    </tr>\n",
       "  </thead>\n",
       "  <tbody>\n",
       "    <tr>\n",
       "      <th>0</th>\n",
       "      <td>3417</td>\n",
       "      <td>5265</td>\n",
       "    </tr>\n",
       "    <tr>\n",
       "      <th>1</th>\n",
       "      <td>1761</td>\n",
       "      <td>37103</td>\n",
       "    </tr>\n",
       "  </tbody>\n",
       "</table>\n",
       "</div>"
      ],
      "text/plain": [
       "col_0     0      1\n",
       "grav              \n",
       "0      3417   5265\n",
       "1      1761  37103"
      ]
     },
     "execution_count": 27,
     "metadata": {},
     "output_type": "execute_result"
    }
   ],
   "source": [
    "X_train, X_test, y_train, y_test = train_test_split(data, target, test_size=0.2)\n",
    "\n",
    "model = ensemble.RandomForestClassifier(class_weight= \"balanced\")\n",
    "model.fit(X_train, y_train) \n",
    "\n",
    "y_pred = model.predict(X_test)\n",
    "pd.crosstab(y_test, y_pred)\n",
    "\n",
    "cross = pd.crosstab(y_test, y_pred)\n",
    "\n",
    "accuracy = accuracy_score(y_test, y_pred)\n",
    "print('Accuracy: %.2f' % (accuracy*100))\n",
    "\n",
    "cross"
   ]
  },
  {
   "cell_type": "code",
   "execution_count": 22,
   "id": "f2ca256e",
   "metadata": {},
   "outputs": [
    {
     "name": "stdout",
     "output_type": "stream",
     "text": [
      "Accuracy: 73.66\n"
     ]
    },
    {
     "data": {
      "text/html": [
       "<div>\n",
       "<style scoped>\n",
       "    .dataframe tbody tr th:only-of-type {\n",
       "        vertical-align: middle;\n",
       "    }\n",
       "\n",
       "    .dataframe tbody tr th {\n",
       "        vertical-align: top;\n",
       "    }\n",
       "\n",
       "    .dataframe thead th {\n",
       "        text-align: right;\n",
       "    }\n",
       "</style>\n",
       "<table border=\"1\" class=\"dataframe\">\n",
       "  <thead>\n",
       "    <tr style=\"text-align: right;\">\n",
       "      <th>col_0</th>\n",
       "      <th>0</th>\n",
       "      <th>1</th>\n",
       "    </tr>\n",
       "    <tr>\n",
       "      <th>grav</th>\n",
       "      <th></th>\n",
       "      <th></th>\n",
       "    </tr>\n",
       "  </thead>\n",
       "  <tbody>\n",
       "    <tr>\n",
       "      <th>0</th>\n",
       "      <td>5972</td>\n",
       "      <td>2850</td>\n",
       "    </tr>\n",
       "    <tr>\n",
       "      <th>1</th>\n",
       "      <td>9672</td>\n",
       "      <td>29052</td>\n",
       "    </tr>\n",
       "  </tbody>\n",
       "</table>\n",
       "</div>"
      ],
      "text/plain": [
       "col_0     0      1\n",
       "grav              \n",
       "0      5972   2850\n",
       "1      9672  29052"
      ]
     },
     "execution_count": 22,
     "metadata": {},
     "output_type": "execute_result"
    }
   ],
   "source": [
    "\n",
    "X_train, X_test, y_train, y_test = train_test_split(data, target, test_size=0.2)\n",
    "\n",
    "# feature selection\n",
    "def select_features(X_train, y_train, X_test):\n",
    "    fs = SelectKBest(score_func=chi2, k=5)\n",
    "    fs.fit(X_train, y_train)\n",
    "    X_train_fs = fs.transform(X_train)\n",
    "    X_test_fs = fs.transform(X_test)\n",
    "    return X_train_fs, X_test_fs, fs\n",
    "\n",
    "# feature selection\n",
    "X_train_fs, X_test_fs, fs = select_features(X_train, y_train, X_test)\n",
    "\n",
    "\n",
    "\n",
    "model = ensemble.RandomForestClassifier(class_weight= \"balanced\")\n",
    "\n",
    "model.fit(X_train_fs, y_train)\n",
    "\n",
    "y_pred = model.predict(X_test_fs)\n",
    "\n",
    "cross = pd.crosstab(y_test, y_pred)\n",
    "\n",
    "accuracy = accuracy_score(y_test, y_pred)\n",
    "print('Accuracy: %.2f' % (accuracy*100))\n",
    "\n",
    "cross"
   ]
  },
  {
   "cell_type": "code",
   "execution_count": 23,
   "id": "939902d5",
   "metadata": {},
   "outputs": [
    {
     "name": "stdout",
     "output_type": "stream",
     "text": [
      "Accuracy: 82.45\n"
     ]
    }
   ],
   "source": [
    "model = DecisionTreeClassifier(criterion ='entropy', max_depth=13)\n",
    "\n",
    "\n",
    "model.fit(X_train_fs, y_train)\n",
    "\n",
    "y_pred = model.predict(X_test_fs)\n",
    "\n",
    "accuracy = accuracy_score(y_test, y_pred)\n",
    "print('Accuracy: %.2f' % (accuracy*100))"
   ]
  },
  {
   "cell_type": "code",
   "execution_count": 24,
   "id": "bef43da6",
   "metadata": {},
   "outputs": [
    {
     "name": "stdout",
     "output_type": "stream",
     "text": [
      "Feature 0: 0.015507\n",
      "Feature 1: 0.022416\n",
      "Feature 2: 0.017618\n",
      "Feature 3: 0.019208\n",
      "Feature 4: 0.046636\n",
      "Feature 5: 0.015598\n",
      "Feature 6: 0.004570\n",
      "Feature 7: 0.007817\n",
      "Feature 8: 0.005857\n",
      "Feature 9: 0.005764\n",
      "Feature 10: 0.031147\n",
      "Feature 11: 0.021907\n",
      "Feature 12: 0.038121\n",
      "Feature 13: 0.016692\n",
      "Feature 14: 0.022012\n",
      "Feature 15: 0.020585\n",
      "Feature 16: 0.027913\n",
      "Feature 17: 0.024452\n",
      "Feature 18: 0.022452\n",
      "Feature 19: 0.000890\n",
      "Feature 20: 0.019575\n",
      "Feature 21: 0.026324\n",
      "Feature 22: 0.017358\n",
      "Feature 23: 0.001976\n",
      "Feature 24: 0.036910\n",
      "Feature 25: 0.000567\n",
      "Feature 26: 0.003400\n",
      "Feature 27: 0.016196\n",
      "Feature 28: 0.040961\n",
      "Feature 29: 0.030459\n",
      "Feature 30: 0.011536\n",
      "Feature 31: 0.014504\n",
      "Feature 32: 0.034337\n",
      "Feature 33: 0.009373\n"
     ]
    },
    {
     "data": {
      "image/png": "[encoded data removed]",
      "text/plain": [
       "<Figure size 640x480 with 1 Axes>"
      ]
     },
     "metadata": {},
     "output_type": "display_data"
    }
   ],
   "source": [
    "def select_features(X_train, y_train, X_test):\n",
    "    fs = SelectKBest(score_func=mutual_info_classif, k=9)\n",
    "    fs.fit(X_train, y_train)\n",
    "    X_train_fs = fs.transform(X_train)\n",
    "    X_test_fs = fs.transform(X_test)\n",
    "    return X_train_fs, X_test_fs, fs\n",
    "\n",
    "X_train_fs, X_test_fs, fs = select_features(X_train, y_train, X_test)\n",
    "\n",
    "# what are scores for the features\n",
    "for i in range(len(fs.scores_)):\n",
    "    print('Feature %d: %f' % (i, fs.scores_[i]))\n",
    "# plot the scores\n",
    "plt.bar([i for i in range(len(fs.scores_))], fs.scores_)\n",
    "plt.show()"
   ]
  },
  {
   "cell_type": "code",
   "execution_count": 25,
   "id": "ed470edc",
   "metadata": {},
   "outputs": [
    {
     "name": "stderr",
     "output_type": "stream",
     "text": [
      "c:\\Users\\girar\\AppData\\Local\\Programs\\Python\\Python310\\lib\\site-packages\\sklearn\\ensemble\\_forest.py:427: FutureWarning: `max_features='auto'` has been deprecated in 1.1 and will be removed in 1.3. To keep the past behaviour, explicitly set `max_features='sqrt'` or remove this parameter as it is also the default value for RandomForestClassifiers and ExtraTreesClassifiers.\n",
      "  warn(\n"
     ]
    },
    {
     "name": "stdout",
     "output_type": "stream",
     "text": [
      "Accuracy: 84.45\n"
     ]
    },
    {
     "data": {
      "text/html": [
       "<div>\n",
       "<style scoped>\n",
       "    .dataframe tbody tr th:only-of-type {\n",
       "        vertical-align: middle;\n",
       "    }\n",
       "\n",
       "    .dataframe tbody tr th {\n",
       "        vertical-align: top;\n",
       "    }\n",
       "\n",
       "    .dataframe thead th {\n",
       "        text-align: right;\n",
       "    }\n",
       "</style>\n",
       "<table border=\"1\" class=\"dataframe\">\n",
       "  <thead>\n",
       "    <tr style=\"text-align: right;\">\n",
       "      <th></th>\n",
       "      <th>Importance</th>\n",
       "    </tr>\n",
       "  </thead>\n",
       "  <tbody>\n",
       "    <tr>\n",
       "      <th>place</th>\n",
       "      <td>0.232465</td>\n",
       "    </tr>\n",
       "    <tr>\n",
       "      <th>secu3</th>\n",
       "      <td>0.150422</td>\n",
       "    </tr>\n",
       "    <tr>\n",
       "      <th>catu</th>\n",
       "      <td>0.133835</td>\n",
       "    </tr>\n",
       "    <tr>\n",
       "      <th>actp</th>\n",
       "      <td>0.116627</td>\n",
       "    </tr>\n",
       "    <tr>\n",
       "      <th>sexe</th>\n",
       "      <td>0.107592</td>\n",
       "    </tr>\n",
       "    <tr>\n",
       "      <th>trajet</th>\n",
       "      <td>0.092180</td>\n",
       "    </tr>\n",
       "    <tr>\n",
       "      <th>locp</th>\n",
       "      <td>0.078778</td>\n",
       "    </tr>\n",
       "    <tr>\n",
       "      <th>secu2</th>\n",
       "      <td>0.072190</td>\n",
       "    </tr>\n",
       "    <tr>\n",
       "      <th>secu1</th>\n",
       "      <td>0.015911</td>\n",
       "    </tr>\n",
       "  </tbody>\n",
       "</table>\n",
       "</div>"
      ],
      "text/plain": [
       "        Importance\n",
       "place     0.232465\n",
       "secu3     0.150422\n",
       "catu      0.133835\n",
       "actp      0.116627\n",
       "sexe      0.107592\n",
       "trajet    0.092180\n",
       "locp      0.078778\n",
       "secu2     0.072190\n",
       "secu1     0.015911"
      ]
     },
     "execution_count": 25,
     "metadata": {},
     "output_type": "execute_result"
    }
   ],
   "source": [
    "model = ensemble.RandomForestClassifier(criterion = 'gini', max_depth = 11, max_features = 'auto', n_estimators = 200)\n",
    "\n",
    "model.fit(X_train_fs, y_train)\n",
    "\n",
    "y_pred = model.predict(X_test_fs)\n",
    "\n",
    "accuracy = accuracy_score(y_test, y_pred)\n",
    "print('Accuracy: %.2f' % (accuracy*100))\n",
    "\n",
    "feats = {}\n",
    "for feature, importance in zip(data.columns, model.feature_importances_):\n",
    "    feats[feature] = importance \n",
    "    \n",
    "importances = pd.DataFrame.from_dict(feats, orient='index').rename(columns={0: 'Importance'})\n",
    "importances.sort_values(by='Importance', ascending=False).head(9)\n"
   ]
  },
  {
   "cell_type": "code",
   "execution_count": 26,
   "id": "9ba55263",
   "metadata": {},
   "outputs": [
    {
     "name": "stdout",
     "output_type": "stream",
     "text": [
      "Accuracy: 83.94\n"
     ]
    },
    {
     "data": {
      "text/html": [
       "<div>\n",
       "<style scoped>\n",
       "    .dataframe tbody tr th:only-of-type {\n",
       "        vertical-align: middle;\n",
       "    }\n",
       "\n",
       "    .dataframe tbody tr th {\n",
       "        vertical-align: top;\n",
       "    }\n",
       "\n",
       "    .dataframe thead th {\n",
       "        text-align: right;\n",
       "    }\n",
       "</style>\n",
       "<table border=\"1\" class=\"dataframe\">\n",
       "  <thead>\n",
       "    <tr style=\"text-align: right;\">\n",
       "      <th></th>\n",
       "      <th>Importance</th>\n",
       "    </tr>\n",
       "  </thead>\n",
       "  <tbody>\n",
       "    <tr>\n",
       "      <th>place</th>\n",
       "      <td>0.246219</td>\n",
       "    </tr>\n",
       "    <tr>\n",
       "      <th>secu3</th>\n",
       "      <td>0.189228</td>\n",
       "    </tr>\n",
       "    <tr>\n",
       "      <th>sexe</th>\n",
       "      <td>0.133735</td>\n",
       "    </tr>\n",
       "    <tr>\n",
       "      <th>actp</th>\n",
       "      <td>0.084531</td>\n",
       "    </tr>\n",
       "    <tr>\n",
       "      <th>catu</th>\n",
       "      <td>0.083478</td>\n",
       "    </tr>\n",
       "    <tr>\n",
       "      <th>trajet</th>\n",
       "      <td>0.083188</td>\n",
       "    </tr>\n",
       "    <tr>\n",
       "      <th>locp</th>\n",
       "      <td>0.080555</td>\n",
       "    </tr>\n",
       "    <tr>\n",
       "      <th>secu2</th>\n",
       "      <td>0.080232</td>\n",
       "    </tr>\n",
       "    <tr>\n",
       "      <th>secu1</th>\n",
       "      <td>0.018834</td>\n",
       "    </tr>\n",
       "  </tbody>\n",
       "</table>\n",
       "</div>"
      ],
      "text/plain": [
       "        Importance\n",
       "place     0.246219\n",
       "secu3     0.189228\n",
       "sexe      0.133735\n",
       "actp      0.084531\n",
       "catu      0.083478\n",
       "trajet    0.083188\n",
       "locp      0.080555\n",
       "secu2     0.080232\n",
       "secu1     0.018834"
      ]
     },
     "execution_count": 26,
     "metadata": {},
     "output_type": "execute_result"
    }
   ],
   "source": [
    "model = DecisionTreeClassifier(criterion ='gini', max_depth=13)\n",
    "\n",
    "\n",
    "model.fit(X_train_fs, y_train)\n",
    "\n",
    "y_pred = model.predict(X_test_fs)\n",
    "\n",
    "accuracy = accuracy_score(y_test, y_pred)\n",
    "print('Accuracy: %.2f' % (accuracy*100))\n",
    "\n",
    "feats = {}\n",
    "for feature, importance in zip(data.columns, model.feature_importances_):\n",
    "    feats[feature] = importance \n",
    "    \n",
    "importances = pd.DataFrame.from_dict(feats, orient='index').rename(columns={0: 'Importance'})\n",
    "importances.sort_values(by='Importance', ascending=False).head(9)"
   ]
  },
  {
   "cell_type": "code",
   "execution_count": 27,
   "id": "af4beb07",
   "metadata": {},
   "outputs": [
    {
     "name": "stdout",
     "output_type": "stream",
     "text": [
      "81.44533714718378\n",
      "81.77975013670972\n",
      "82.13309216337862\n",
      "82.55373743322257\n",
      "82.59790518655618\n",
      "83.38451184116434\n",
      "83.71261515164262\n",
      "83.82829260084971\n",
      "84.03440878307323\n",
      "83.97341521894587\n",
      "84.0848862154545\n",
      "83.96079586085054\n",
      "83.92083456021537\n",
      "83.7946409792622\n"
     ]
    },
    {
     "data": {
      "image/png": "[encoded data removed]",
      "text/plain": [
       "<Figure size 640x480 with 1 Axes>"
      ]
     },
     "metadata": {},
     "output_type": "display_data"
    }
   ],
   "source": [
    "from sklearn.model_selection import KFold\n",
    "from sklearn.model_selection import cross_val_score\n",
    "\n",
    "for i in range(1,15):\n",
    "    tree = DecisionTreeClassifier(criterion='gini',max_depth=i)  \n",
    "    tree .fit(X_train_fs, y_train) \n",
    "    y_pred =tree .predict(X_test_fs)\n",
    "    score = accuracy_score(y_test, y_pred)\n",
    "# kfold = KFold(n_splits=10, shuffle=True, random_state=seed)\n",
    "# score = cross_val_score(tree, X, y, cv=kfold)\n",
    "    mean=score.mean()*100\n",
    "    plt.scatter(i, mean)\n",
    "    print(mean)\n",
    "plt.show()"
   ]
  },
  {
   "cell_type": "code",
   "execution_count": 31,
   "id": "bd325717",
   "metadata": {},
   "outputs": [
    {
     "data": {
      "text/plain": [
       "{'criterion': 'gini',\n",
       " 'max_depth': 11,\n",
       " 'max_features': 'sqrt',\n",
       " 'n_estimators': 200}"
      ]
     },
     "execution_count": 31,
     "metadata": {},
     "output_type": "execute_result"
    }
   ],
   "source": [
    "param_grid = {'n_estimators': [200],\n",
    "    'max_features': ['sqrt', 'log2'],\n",
    "    'max_depth' : [11],\n",
    "    'criterion' :['gini', 'entropy'] }\n",
    "\n",
    "\n",
    "model = ensemble.RandomForestClassifier()\n",
    "CV_rfc = GridSearchCV(estimator=model, param_grid=param_grid, cv= 5)\n",
    "CV_rfc.fit(X_train_fs, y_train)\n",
    "CV_rfc.best_params_"
   ]
  }
 ],
 "metadata": {
  "kernelspec": {
   "display_name": "Python 3.10.6 64-bit",
   "language": "python",
   "name": "python3"
  },
  "language_info": {
   "codemirror_mode": {
    "name": "ipython",
    "version": 3
   },
   "file_extension": ".py",
   "mimetype": "text/x-python",
   "name": "python",
   "nbconvert_exporter": "python",
   "pygments_lexer": "ipython3",
   "version": "3.10.6"
  },
  "vscode": {
   "interpreter": {
    "hash": "e0a4fd25ad35a8775604c467084b421628d70dfe880b4ccc644daea764462042"
   }
  }
 },
 "nbformat": 4,
 "nbformat_minor": 5
}
