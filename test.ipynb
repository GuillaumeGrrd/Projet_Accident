{
 "cells": [
  {
   "cell_type": "code",
   "execution_count": 1,
   "metadata": {},
   "outputs": [
    {
     "data": {
      "text/plain": [
       "array([[ 5.1       ,  3.5       ,  1.4       , ..., -1.07709907,\n",
       "        -0.4246633 , -0.8299646 ],\n",
       "       [ 4.9       ,  3.        ,  1.4       , ...,  1.4121517 ,\n",
       "        -1.38043075, -0.53591456],\n",
       "       [ 4.7       ,  3.2       ,  1.3       , ...,  0.65880214,\n",
       "        -0.59691711, -0.22295918],\n",
       "       ...,\n",
       "       [ 6.5       ,  3.        ,  5.2       , ..., -0.5154906 ,\n",
       "        -0.12964864, -0.5092809 ],\n",
       "       [ 6.2       ,  3.4       ,  5.4       , ...,  1.42147798,\n",
       "        -0.61336209, -0.34432031],\n",
       "       [ 5.9       ,  3.        ,  5.1       , ...,  2.53170549,\n",
       "        -0.03572203,  0.17320019]])"
      ]
     },
     "execution_count": 1,
     "metadata": {},
     "output_type": "execute_result"
    }
   ],
   "source": [
    "import numpy as np\n",
    "from sklearn.datasets import load_iris\n",
    "from sklearn.model_selection import train_test_split\n",
    "\n",
    "X, y = load_iris(return_X_y=True)\n",
    "\n",
    "# Add noisy features\n",
    "random_state = np.random.RandomState(0)\n",
    "n_samples, n_features = X.shape\n",
    "X = np.concatenate([X, random_state.randn(n_samples, 200 * n_features)], axis=1)\n",
    "\n",
    "X"
   ]
  }
 ],
 "metadata": {
  "kernelspec": {
   "display_name": "Python 3.10.6 64-bit",
   "language": "python",
   "name": "python3"
  },
  "language_info": {
   "codemirror_mode": {
    "name": "ipython",
    "version": 3
   },
   "file_extension": ".py",
   "mimetype": "text/x-python",
   "name": "python",
   "nbconvert_exporter": "python",
   "pygments_lexer": "ipython3",
   "version": "3.10.6"
  },
  "orig_nbformat": 4,
  "vscode": {
   "interpreter": {
    "hash": "e0a4fd25ad35a8775604c467084b421628d70dfe880b4ccc644daea764462042"
   }
  }
 },
 "nbformat": 4,
 "nbformat_minor": 2
}
