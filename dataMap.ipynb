{
 "cells": [
  {
   "cell_type": "code",
   "execution_count": 2,
   "metadata": {},
   "outputs": [],
   "source": [
    "import pandas as pd\n",
    "import numpy as np"
   ]
  },
  {
   "cell_type": "code",
   "execution_count": 3,
   "metadata": {},
   "outputs": [],
   "source": [
    "# import vehicules \n",
    "dfVehi2020 = pd.read_csv('data/vehicules-2020.csv', sep = ';')\n",
    "dfVehi2019 = pd.read_csv('data/vehicules-2019.csv', sep = ';')\n",
    "\n",
    "\n",
    "# import usager \n",
    "dfUsag2020 = pd.read_csv('data/usagers-2020.csv', sep = ';')\n",
    "dfUsag2019 = pd.read_csv('data/usagers-2019.csv', sep = ';')\n",
    "\n",
    "\n",
    "# import lieu \n",
    "dfLieux2020 = pd.read_csv('data/lieux-2020.csv', sep = ';')\n",
    "dfLieux2019 = pd.read_csv('data/lieux-2019.csv', sep = ';')\n",
    "\n",
    "\n",
    "# import Caractéristique \n",
    "dfCara2020 = pd.read_csv('data/caracteristiques-2020.csv', sep = ';')\n",
    "dfCara2019 = pd.read_csv('data/caracteristiques-2019.csv', sep = ';')\n",
    "\n",
    "# import Caractéristique \n",
    "dfImmat2020 = pd.read_csv('data/2020.csv', sep = ';')\n",
    "dfImmat2019 = pd.read_csv('data/2019.csv', sep = ';')"
   ]
  },
  {
   "cell_type": "code",
   "execution_count": 4,
   "metadata": {},
   "outputs": [],
   "source": [
    "# import Caractéristique \n",
    "dfCara2020 = pd.read_csv('data/caracteristiques-2020.csv', sep = ';')\n",
    "dfCara2019 = pd.read_csv('data/caracteristiques-2019.csv', sep = ';')\n",
    "\n",
    "df = pd.concat([dfCara2020, dfCara2019], axis = 0)\n",
    "df = df[['long','lat']]\n",
    "df =df.applymap(lambda x: str(x.replace(',','.'))).astype(float)\n",
    "\n"
   ]
  },
  {
   "cell_type": "code",
   "execution_count": 13,
   "metadata": {},
   "outputs": [
    {
     "data": {
      "text/html": [
       "<div>\n",
       "<style scoped>\n",
       "    .dataframe tbody tr th:only-of-type {\n",
       "        vertical-align: middle;\n",
       "    }\n",
       "\n",
       "    .dataframe tbody tr th {\n",
       "        vertical-align: top;\n",
       "    }\n",
       "\n",
       "    .dataframe thead th {\n",
       "        text-align: right;\n",
       "    }\n",
       "</style>\n",
       "<table border=\"1\" class=\"dataframe\">\n",
       "  <thead>\n",
       "    <tr style=\"text-align: right;\">\n",
       "      <th></th>\n",
       "      <th>lat</th>\n",
       "    </tr>\n",
       "    <tr>\n",
       "      <th>long</th>\n",
       "      <th></th>\n",
       "    </tr>\n",
       "  </thead>\n",
       "  <tbody>\n",
       "    <tr>\n",
       "      <th>2.438410</th>\n",
       "      <td>48.705350</td>\n",
       "    </tr>\n",
       "    <tr>\n",
       "      <th>2.410000</th>\n",
       "      <td>48.690000</td>\n",
       "    </tr>\n",
       "    <tr>\n",
       "      <th>2.475820</th>\n",
       "      <td>48.610670</td>\n",
       "    </tr>\n",
       "    <tr>\n",
       "      <th>2.524460</th>\n",
       "      <td>48.697820</td>\n",
       "    </tr>\n",
       "    <tr>\n",
       "      <th>2.705971</th>\n",
       "      <td>48.828646</td>\n",
       "    </tr>\n",
       "    <tr>\n",
       "      <th>...</th>\n",
       "      <td>...</td>\n",
       "    </tr>\n",
       "    <tr>\n",
       "      <th>5.056120</th>\n",
       "      <td>45.666660</td>\n",
       "    </tr>\n",
       "    <tr>\n",
       "      <th>7.726900</th>\n",
       "      <td>48.576900</td>\n",
       "    </tr>\n",
       "    <tr>\n",
       "      <th>2.345760</th>\n",
       "      <td>48.771700</td>\n",
       "    </tr>\n",
       "    <tr>\n",
       "      <th>2.223759</th>\n",
       "      <td>48.777289</td>\n",
       "    </tr>\n",
       "    <tr>\n",
       "      <th>2.175110</th>\n",
       "      <td>48.835124</td>\n",
       "    </tr>\n",
       "  </tbody>\n",
       "</table>\n",
       "<p>106584 rows × 1 columns</p>\n",
       "</div>"
      ],
      "text/plain": [
       "                lat\n",
       "long               \n",
       "2.438410  48.705350\n",
       "2.410000  48.690000\n",
       "2.475820  48.610670\n",
       "2.524460  48.697820\n",
       "2.705971  48.828646\n",
       "...             ...\n",
       "5.056120  45.666660\n",
       "7.726900  48.576900\n",
       "2.345760  48.771700\n",
       "2.223759  48.777289\n",
       "2.175110  48.835124\n",
       "\n",
       "[106584 rows x 1 columns]"
      ]
     },
     "execution_count": 13,
     "metadata": {},
     "output_type": "execute_result"
    }
   ],
   "source": [
    "HEXAGON_LAYER_DATA = (\n",
    "        'https://raw.githubusercontent.com/GuillaumeGrrd/Projet_Accident/master/data/map/Map.csv'\n",
    "    )\n",
    "\n",
    "df2 = pd.read_csv(HEXAGON_LAYER_DATA,index_col=0)\n",
    "df2"
   ]
  }
 ],
 "metadata": {
  "kernelspec": {
   "display_name": "Python 3.10.6 64-bit",
   "language": "python",
   "name": "python3"
  },
  "language_info": {
   "codemirror_mode": {
    "name": "ipython",
    "version": 3
   },
   "file_extension": ".py",
   "mimetype": "text/x-python",
   "name": "python",
   "nbconvert_exporter": "python",
   "pygments_lexer": "ipython3",
   "version": "3.10.6"
  },
  "orig_nbformat": 4,
  "vscode": {
   "interpreter": {
    "hash": "e0a4fd25ad35a8775604c467084b421628d70dfe880b4ccc644daea764462042"
   }
  }
 },
 "nbformat": 4,
 "nbformat_minor": 2
}
