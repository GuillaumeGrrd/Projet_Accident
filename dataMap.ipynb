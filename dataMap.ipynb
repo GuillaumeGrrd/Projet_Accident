{
 "cells": [
  {
   "cell_type": "code",
   "execution_count": 2,
   "metadata": {},
   "outputs": [],
   "source": [
    "import pandas as pd\n",
    "import numpy as np"
   ]
  },
  {
   "cell_type": "code",
   "execution_count": 3,
   "metadata": {},
   "outputs": [],
   "source": [
    "# import vehicules \n",
    "dfVehi2020 = pd.read_csv('data/vehicules-2020.csv', sep = ';')\n",
    "dfVehi2019 = pd.read_csv('data/vehicules-2019.csv', sep = ';')\n",
    "\n",
    "\n",
    "# import usager \n",
    "dfUsag2020 = pd.read_csv('data/usagers-2020.csv', sep = ';')\n",
    "dfUsag2019 = pd.read_csv('data/usagers-2019.csv', sep = ';')\n",
    "\n",
    "\n",
    "# import lieu \n",
    "dfLieux2020 = pd.read_csv('data/lieux-2020.csv', sep = ';')\n",
    "dfLieux2019 = pd.read_csv('data/lieux-2019.csv', sep = ';')\n",
    "\n",
    "\n",
    "# import Caractéristique \n",
    "dfCara2020 = pd.read_csv('data/caracteristiques-2020.csv', sep = ';')\n",
    "dfCara2019 = pd.read_csv('data/caracteristiques-2019.csv', sep = ';')\n",
    "\n",
    "# import Caractéristique \n",
    "dfImmat2020 = pd.read_csv('data/2020.csv', sep = ';')\n",
    "dfImmat2019 = pd.read_csv('data/2019.csv', sep = ';')"
   ]
  },
  {
   "cell_type": "code",
   "execution_count": 4,
   "metadata": {},
   "outputs": [],
   "source": [
    "# import Caractéristique \n",
    "dfCara2020 = pd.read_csv('data/caracteristiques-2020.csv', sep = ';')\n",
    "dfCara2019 = pd.read_csv('data/caracteristiques-2019.csv', sep = ';')\n",
    "\n",
    "df = pd.concat([dfCara2020, dfCara2019], axis = 0)\n",
    "df = df[['long','lat']]\n",
    "df =df.applymap(lambda x: str(x.replace(',','.'))).astype(float)\n",
    "\n"
   ]
  },
  {
   "cell_type": "code",
   "execution_count": 6,
   "metadata": {},
   "outputs": [],
   "source": [
    "df.to_csv(\"Map.csv\")"
   ]
  }
 ],
 "metadata": {
  "kernelspec": {
   "display_name": "Python 3.10.6 64-bit",
   "language": "python",
   "name": "python3"
  },
  "language_info": {
   "codemirror_mode": {
    "name": "ipython",
    "version": 3
   },
   "file_extension": ".py",
   "mimetype": "text/x-python",
   "name": "python",
   "nbconvert_exporter": "python",
   "pygments_lexer": "ipython3",
   "version": "3.10.6"
  },
  "orig_nbformat": 4,
  "vscode": {
   "interpreter": {
    "hash": "e0a4fd25ad35a8775604c467084b421628d70dfe880b4ccc644daea764462042"
   }
  }
 },
 "nbformat": 4,
 "nbformat_minor": 2
}
